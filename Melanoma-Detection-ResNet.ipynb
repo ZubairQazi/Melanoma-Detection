{
 "cells": [
  {
   "cell_type": "markdown",
   "id": "ae83240f",
   "metadata": {},
   "source": [
    "## Imports"
   ]
  },
  {
   "cell_type": "code",
   "execution_count": 1,
   "id": "5b5e99f0",
   "metadata": {},
   "outputs": [],
   "source": [
    "import torch\n",
    "from torch import nn, optim\n",
    "from torch.autograd import Variable\n",
    "from torch.utils.data import DataLoader, TensorDataset, WeightedRandomSampler\n",
    "import torch.nn.functional as F\n",
    "import torchvision\n",
    "from torchvision import models, transforms\n",
    "from torchvision.datasets import ImageFolder\n",
    "import numpy as np\n",
    "from collections import OrderedDict\n",
    "import matplotlib.pyplot as plt\n",
    "import pickle\n",
    "from tqdm.notebook import tqdm\n",
    "from sklearn.utils.class_weight import compute_class_weight\n",
    "\n",
    "from imblearn.over_sampling import SMOTE\n",
    "\n",
    "device = torch.device(\"cuda\" if torch.cuda.is_available() else \"cpu\")"
   ]
  },
  {
   "cell_type": "code",
   "execution_count": 2,
   "id": "31fa127b",
   "metadata": {},
   "outputs": [],
   "source": [
    "data_train_path = 'skin-lesions/train/'\n",
    "data_valid_path = 'skin-lesions/valid/'\n",
    "data_test_path = 'skin-lesions/test/'"
   ]
  },
  {
   "cell_type": "markdown",
   "id": "86b90500",
   "metadata": {},
   "source": [
    "https://discuss.pytorch.org/t/is-there-a-limit-on-how-disbalanced-a-train-set-can-be/26334/6?u=ptrblck"
   ]
  },
  {
   "cell_type": "markdown",
   "id": "b36bfab9",
   "metadata": {},
   "source": [
    "## Loading Data"
   ]
  },
  {
   "cell_type": "code",
   "execution_count": 3,
   "id": "66354f78",
   "metadata": {},
   "outputs": [],
   "source": [
    "test_transform = transforms.Compose([\n",
    "    transforms.Resize((224, 224)),\n",
    "    transforms.ToTensor(),\n",
    "    transforms.Normalize(mean=[0.485, 0.456, 0.406],\n",
    "                                 std=[0.229, 0.224, 0.225])\n",
    "])\n",
    "\n",
    "# modified data from autoencoder\n",
    "train_dataset = torch.load('model_data/upd_train_data.pt')\n",
    "\n",
    "valid_dataset = ImageFolder(data_valid_path, transform = test_transform)\n",
    "test_dataset = ImageFolder(data_test_path, transform = test_transform)\n",
    "\n",
    "valid_loader = DataLoader(valid_dataset, batch_size = 32, shuffle = True)\n",
    "test_loader = DataLoader(test_dataset, batch_size = 1, shuffle = True)"
   ]
  },
  {
   "cell_type": "markdown",
   "id": "71714483",
   "metadata": {},
   "source": [
    "### Applying SMOTE to data"
   ]
  },
  {
   "cell_type": "code",
   "execution_count": 10,
   "id": "bc785729",
   "metadata": {
    "scrolled": true
   },
   "outputs": [
    {
     "data": {
      "application/vnd.jupyter.widget-view+json": {
       "model_id": "a9815f10aef544d087fd8e14a3334fdd",
       "version_major": 2,
       "version_minor": 0
      },
      "text/plain": [
       "  0%|          | 0/2000 [00:00<?, ?it/s]"
      ]
     },
     "metadata": {},
     "output_type": "display_data"
    }
   ],
   "source": [
    "modified_outputs, labels = [], []\n",
    "for idx, (sample, target) in enumerate(tqdm(train_dataset, total=len(train_dataset))):\n",
    "    modified_outputs.append(sample.cpu().detach().numpy())\n",
    "    labels.append(target)"
   ]
  },
  {
   "cell_type": "code",
   "execution_count": 11,
   "id": "9a1490e9",
   "metadata": {},
   "outputs": [],
   "source": [
    "X_train, y_train = np.array(modified_outputs), np.array(labels)"
   ]
  },
  {
   "cell_type": "code",
   "execution_count": 13,
   "id": "26372750",
   "metadata": {},
   "outputs": [],
   "source": [
    "sm = SMOTE(random_state=42)\n",
    "\n",
    "train_rows=len(X_train)\n",
    "X_train = X_train.reshape(train_rows,-1)\n",
    "\n",
    "X_train, y_train = sm.fit_resample(X_train, y_train)\n",
    "X_train = X_train.reshape(-1, 3, 224, 224)"
   ]
  },
  {
   "cell_type": "code",
   "execution_count": 14,
   "id": "18486e05",
   "metadata": {},
   "outputs": [
    {
     "name": "stdout",
     "output_type": "stream",
     "text": [
      "(array([0, 1]), array([1626, 1626]))\n"
     ]
    }
   ],
   "source": [
    "print(np.unique(y_train, return_counts=True))"
   ]
  },
  {
   "cell_type": "code",
   "execution_count": 15,
   "id": "7357b600",
   "metadata": {},
   "outputs": [],
   "source": [
    "train_dataset = TensorDataset(torch.from_numpy(X_train), torch.from_numpy(y_train))\n",
    "train_loader = DataLoader(train_dataset, batch_size = 64, shuffle = True)"
   ]
  },
  {
   "cell_type": "markdown",
   "id": "8ad19bc0",
   "metadata": {},
   "source": [
    "## Utility Functions"
   ]
  },
  {
   "cell_type": "code",
   "execution_count": 17,
   "id": "5162b128",
   "metadata": {},
   "outputs": [],
   "source": [
    "def train(model, epochs, criterion, min_loss, optimizer, vectorize=False):\n",
    "    training_losses, valid_losses, accs = [],[],[]\n",
    "    for epoch in range(epochs):\n",
    "        training_loss = 0\n",
    "        model.train()\n",
    "        for images, labels in train_loader:\n",
    "            images, labels = images.to(device), labels.to(device)\n",
    "            \n",
    "            if vectorize:\n",
    "                images = images.reshape(-1, 224 * 224 * 3)\n",
    "\n",
    "            optimizer.zero_grad()\n",
    "            ps = model(images)\n",
    "            loss = criterion(ps, labels)\n",
    "            loss.backward()\n",
    "            optimizer.step()\n",
    "\n",
    "            training_loss += loss.item()\n",
    "        print(f\"\\tEPOCH: {epoch + 1}.. TRAINING LOSS: {training_loss}\")\n",
    "\n",
    "        training_losses.append(training_loss)\n",
    "        model.eval()\n",
    "        valid_loss = 0\n",
    "        acc = 0\n",
    "        with torch.no_grad():\n",
    "            for images, labels in valid_loader:\n",
    "                images, labels = images.to(device), labels.to(device)\n",
    "                \n",
    "                if vectorize:\n",
    "                    images = images.reshape(-1, 224 * 224 * 3)\n",
    "                \n",
    "                optimizer.zero_grad()\n",
    "                ps = model(images)\n",
    "                loss = criterion(ps, labels)\n",
    "                \n",
    "                valid_loss += loss.item()\n",
    "                \n",
    "                _, top_class = ps.topk(1, dim = 1)\n",
    "                eq = top_class == labels.view(-1, 1)\n",
    "                acc += eq.sum().item()\n",
    "                \n",
    "        valid_losses.append(valid_loss)\n",
    "        accs.append(acc)\n",
    "        acc = (acc/len(valid_dataset)) * 100\n",
    "        print(\"EPOCHS: {}/{}.. \\tTRAINING LOSS: {:.6f}.. \\tVALIDATION LOSS: {:.6f}.. \\tACCURACY: {:.2f}%..\".format(epoch + 1, epochs, training_loss, valid_loss, acc))\n",
    "        \n",
    "        if valid_loss <= min_loss:\n",
    "            print(\"Saving Model {:.4f} ---> {:.4f}\".format(min_loss, valid_loss))\n",
    "            save_obj = OrderedDict([\n",
    "                (\"min_loss\", valid_loss),\n",
    "                (\"model\", model.state_dict())\n",
    "            ])\n",
    "            torch.save(save_obj, \"/melanoma_model.pt\")\n",
    "            min_loss = valid_loss\n",
    "            \n",
    "    return training_losses, valid_losses, accs"
   ]
  },
  {
   "cell_type": "markdown",
   "id": "2f10aeb7",
   "metadata": {},
   "source": [
    "Below function was obtained from Kaggle with modifications for our task/models."
   ]
  },
  {
   "cell_type": "code",
   "execution_count": null,
   "id": "de8eaf56",
   "metadata": {},
   "outputs": [],
   "source": [
    "def test_model():\n",
    "    classes = test_dataset.classes\n",
    "    total_correct = 0\n",
    "    count = 0\n",
    "    with torch.no_grad():\n",
    "        for images, labels in test_loader:\n",
    "            images, labels = images.to(device), labels.to(device)\n",
    "            ps = model(images)\n",
    "            \n",
    "            ps = nn.Softmax(dim = 1)(ps)\n",
    "            \n",
    "            top_p, top_class = ps.topk(2, dim = 1)\n",
    "            eq = top_class == labels.view(-1, 1)\n",
    "            total_correct += eq.sum().item()\n",
    "            \n",
    "            if count % 50 == 0:\n",
    "                plt.imshow(transforms.ToPILImage()(images[0]))\n",
    "                plt.title(f\"P: {classes[top_class.item()]}.. C: {top_p.item() * 100}%.. GT: {classes[labels.item()]}..\")\n",
    "                plt.show()\n",
    "            \n",
    "            \n",
    "                \n",
    "            count += 1\n",
    "                \n",
    "    print(\"Total Correct: {}/{}\".format(total_correct, len(test_dataset)))\n",
    "    print(\"Total Accuracy: {:.2f}%\".format((total_correct/len(test_dataset)) * 100))"
   ]
  },
  {
   "cell_type": "markdown",
   "id": "90e818f8",
   "metadata": {},
   "source": [
    "## Training Loop"
   ]
  },
  {
   "cell_type": "code",
   "execution_count": null,
   "id": "6a8ab7b1",
   "metadata": {
    "scrolled": true
   },
   "outputs": [
    {
     "name": "stdout",
     "output_type": "stream",
     "text": [
      "\tEPOCH: 1.. TRAINING LOSS: 35.34774523973465\n",
      "EPOCHS: 1/50.. \tTRAINING LOSS: 35.347745.. \tVALIDATION LOSS: 3.532059.. \tACCURACY: 20.00%..\n",
      "\tEPOCH: 2.. TRAINING LOSS: 35.1899334192276\n",
      "EPOCHS: 2/50.. \tTRAINING LOSS: 35.189933.. \tVALIDATION LOSS: 3.438892.. \tACCURACY: 53.33%..\n",
      "\tEPOCH: 3.. TRAINING LOSS: 34.947949290275574\n",
      "EPOCHS: 3/50.. \tTRAINING LOSS: 34.947949.. \tVALIDATION LOSS: 3.396151.. \tACCURACY: 55.33%..\n",
      "\tEPOCH: 4.. TRAINING LOSS: 34.780230700969696\n",
      "EPOCHS: 4/50.. \tTRAINING LOSS: 34.780231.. \tVALIDATION LOSS: 3.373739.. \tACCURACY: 51.33%..\n",
      "\tEPOCH: 5.. TRAINING LOSS: 34.61360561847687\n",
      "EPOCHS: 5/50.. \tTRAINING LOSS: 34.613606.. \tVALIDATION LOSS: 3.358706.. \tACCURACY: 46.67%..\n",
      "\tEPOCH: 6.. TRAINING LOSS: 34.50395888090134\n"
     ]
    }
   ],
   "source": [
    "torch.cuda.empty_cache()\n",
    "\n",
    "model = models.resnet18()\n",
    "model.fc = nn.Linear(512 * torchvision.models.resnet.BasicBlock.expansion,2)\n",
    "model = model.to(device)\n",
    "\n",
    "LEARNING_RATE = 1e-5\n",
    "EPOCHS = 50\n",
    "optimizer = optim.Adam(model.parameters(), lr = LEARNING_RATE)\n",
    "criterion = nn.CrossEntropyLoss()\n",
    "\n",
    "min_loss = -1\n",
    "train_loss, valid_loss, accs = train(model, EPOCHS, criterion, min_loss, optimizer)"
   ]
  },
  {
   "cell_type": "markdown",
   "id": "056b8d44",
   "metadata": {},
   "source": [
    "## Immediate Results"
   ]
  },
  {
   "cell_type": "code",
   "execution_count": 158,
   "id": "1efb9aaf",
   "metadata": {
    "scrolled": true
   },
   "outputs": [
    {
     "data": {
      "text/plain": [
       "[<matplotlib.lines.Line2D at 0x7fa4d620d850>]"
      ]
     },
     "execution_count": 158,
     "metadata": {},
     "output_type": "execute_result"
    },
    {
     "data": {
      "image/png": "[encoded data removed]",
      "text/plain": [
       "<Figure size 432x288 with 1 Axes>"
      ]
     },
     "metadata": {
      "needs_background": "light"
     },
     "output_type": "display_data"
    }
   ],
   "source": [
    "plt.semilogy(train_loss)"
   ]
  },
  {
   "cell_type": "code",
   "execution_count": 159,
   "id": "7f28335c",
   "metadata": {},
   "outputs": [
    {
     "data": {
      "text/plain": [
       "[<matplotlib.lines.Line2D at 0x7fa4d6a514f0>]"
      ]
     },
     "execution_count": 159,
     "metadata": {},
     "output_type": "execute_result"
    },
    {
     "data": {
      "image/png": "[encoded data removed]",
      "text/plain": [
       "<Figure size 432x288 with 1 Axes>"
      ]
     },
     "metadata": {
      "needs_background": "light"
     },
     "output_type": "display_data"
    }
   ],
   "source": [
    "plt.semilogy(valid_loss)"
   ]
  }
 ],
 "metadata": {
  "kernelspec": {
   "display_name": "Python 3 (ipykernel)",
   "language": "python",
   "name": "python3"
  },
  "language_info": {
   "codemirror_mode": {
    "name": "ipython",
    "version": 3
   },
   "file_extension": ".py",
   "mimetype": "text/x-python",
   "name": "python",
   "nbconvert_exporter": "python",
   "pygments_lexer": "ipython3",
   "version": "3.9.12"
  }
 },
 "nbformat": 4,
 "nbformat_minor": 5
}
